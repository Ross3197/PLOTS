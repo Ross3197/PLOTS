{
 "cells": [
  {
   "cell_type": "code",
   "execution_count": 3,
   "id": "b19cc735-bb36-4839-90de-8177dc649599",
   "metadata": {},
   "outputs": [
    {
     "ename": "ValueError",
     "evalue": "\nThe 'specs' argument to make_subplots must be a 2D list of dictionaries with dimensions (1 x 2).\n    Received value of type <class 'list'>: [[{'type': 'bar'}, {'type': 'scatter'}], [{'type': 'sankey'}, None]]",
     "output_type": "error",
     "traceback": [
      "\u001b[1;31m---------------------------------------------------------------------------\u001b[0m",
      "\u001b[1;31mValueError\u001b[0m                                Traceback (most recent call last)",
      "Cell \u001b[1;32mIn[3], line 30\u001b[0m\n\u001b[0;32m     27\u001b[0m network_fig \u001b[38;5;241m=\u001b[39m go\u001b[38;5;241m.\u001b[39mFigure()\n\u001b[0;32m     29\u001b[0m \u001b[38;5;66;03m# Create a collated figure with 2 columns, and 2 rows in the first column\u001b[39;00m\n\u001b[1;32m---> 30\u001b[0m fig \u001b[38;5;241m=\u001b[39m \u001b[43mmake_subplots\u001b[49m\u001b[43m(\u001b[49m\n\u001b[0;32m     31\u001b[0m \u001b[43m    \u001b[49m\u001b[43mrows\u001b[49m\u001b[38;5;241;43m=\u001b[39;49m\u001b[38;5;241;43m1\u001b[39;49m\u001b[43m,\u001b[49m\u001b[43m \u001b[49m\u001b[43mcols\u001b[49m\u001b[38;5;241;43m=\u001b[39;49m\u001b[38;5;241;43m2\u001b[39;49m\u001b[43m,\u001b[49m\u001b[43m \u001b[49m\n\u001b[0;32m     32\u001b[0m \u001b[43m    \u001b[49m\u001b[43mcolumn_widths\u001b[49m\u001b[38;5;241;43m=\u001b[39;49m\u001b[43m[\u001b[49m\u001b[38;5;241;43m0.35\u001b[39;49m\u001b[43m,\u001b[49m\u001b[43m \u001b[49m\u001b[38;5;241;43m0.65\u001b[39;49m\u001b[43m]\u001b[49m\u001b[43m,\u001b[49m\u001b[43m  \u001b[49m\u001b[38;5;66;43;03m# 35% width for the first column, 65% for the second column\u001b[39;49;00m\n\u001b[0;32m     33\u001b[0m \u001b[43m    \u001b[49m\u001b[43mspecs\u001b[49m\u001b[38;5;241;43m=\u001b[39;49m\u001b[43m[\u001b[49m\u001b[43m[\u001b[49m\u001b[43m{\u001b[49m\u001b[38;5;124;43m\"\u001b[39;49m\u001b[38;5;124;43mtype\u001b[39;49m\u001b[38;5;124;43m\"\u001b[39;49m\u001b[43m:\u001b[49m\u001b[43m \u001b[49m\u001b[38;5;124;43m\"\u001b[39;49m\u001b[38;5;124;43mbar\u001b[39;49m\u001b[38;5;124;43m\"\u001b[39;49m\u001b[43m}\u001b[49m\u001b[43m,\u001b[49m\u001b[43m \u001b[49m\u001b[43m{\u001b[49m\u001b[38;5;124;43m\"\u001b[39;49m\u001b[38;5;124;43mtype\u001b[39;49m\u001b[38;5;124;43m\"\u001b[39;49m\u001b[43m:\u001b[49m\u001b[43m \u001b[49m\u001b[38;5;124;43m\"\u001b[39;49m\u001b[38;5;124;43mscatter\u001b[39;49m\u001b[38;5;124;43m\"\u001b[39;49m\u001b[43m}\u001b[49m\u001b[43m]\u001b[49m\u001b[43m,\u001b[49m\u001b[43m  \u001b[49m\u001b[38;5;66;43;03m# Bar chart and network graph on the first row\u001b[39;49;00m\n\u001b[0;32m     34\u001b[0m \u001b[43m            \u001b[49m\u001b[43m[\u001b[49m\u001b[43m{\u001b[49m\u001b[38;5;124;43m\"\u001b[39;49m\u001b[38;5;124;43mtype\u001b[39;49m\u001b[38;5;124;43m\"\u001b[39;49m\u001b[43m:\u001b[49m\u001b[43m \u001b[49m\u001b[38;5;124;43m\"\u001b[39;49m\u001b[38;5;124;43msankey\u001b[39;49m\u001b[38;5;124;43m\"\u001b[39;49m\u001b[43m}\u001b[49m\u001b[43m,\u001b[49m\u001b[43m \u001b[49m\u001b[38;5;28;43;01mNone\u001b[39;49;00m\u001b[43m]\u001b[49m\u001b[43m]\u001b[49m\u001b[43m,\u001b[49m\u001b[43m  \u001b[49m\u001b[38;5;66;43;03m# Sankey on the second row, nothing on second column of row 2\u001b[39;49;00m\n\u001b[0;32m     35\u001b[0m \u001b[43m    \u001b[49m\u001b[43msubplot_titles\u001b[49m\u001b[38;5;241;43m=\u001b[39;49m\u001b[43m[\u001b[49m\u001b[38;5;124;43m\"\u001b[39;49m\u001b[38;5;124;43mBar & Sankey\u001b[39;49m\u001b[38;5;124;43m\"\u001b[39;49m\u001b[43m,\u001b[49m\u001b[43m \u001b[49m\u001b[38;5;124;43m\"\u001b[39;49m\u001b[38;5;124;43mNetwork Graph\u001b[39;49m\u001b[38;5;124;43m\"\u001b[39;49m\u001b[43m]\u001b[49m\n\u001b[0;32m     36\u001b[0m \u001b[43m)\u001b[49m\n\u001b[0;32m     38\u001b[0m \u001b[38;5;66;03m# Add the Bar Chart to the first column (35% width, first row)\u001b[39;00m\n\u001b[0;32m     39\u001b[0m fig\u001b[38;5;241m.\u001b[39madd_trace(bar_fig\u001b[38;5;241m.\u001b[39mdata[\u001b[38;5;241m0\u001b[39m], row\u001b[38;5;241m=\u001b[39m\u001b[38;5;241m1\u001b[39m, col\u001b[38;5;241m=\u001b[39m\u001b[38;5;241m1\u001b[39m)\n",
      "File \u001b[1;32m~\\AppData\\Local\\Programs\\Python\\Python313\\Lib\\site-packages\\plotly\\subplots.py:305\u001b[0m, in \u001b[0;36mmake_subplots\u001b[1;34m(rows, cols, shared_xaxes, shared_yaxes, start_cell, print_grid, horizontal_spacing, vertical_spacing, subplot_titles, column_widths, row_heights, specs, insets, column_titles, row_titles, x_title, y_title, figure, **kwargs)\u001b[0m\n\u001b[0;32m      6\u001b[0m \u001b[38;5;28;01mdef\u001b[39;00m\u001b[38;5;250m \u001b[39m\u001b[38;5;21mmake_subplots\u001b[39m(\n\u001b[0;32m      7\u001b[0m     rows\u001b[38;5;241m=\u001b[39m\u001b[38;5;241m1\u001b[39m,\n\u001b[0;32m      8\u001b[0m     cols\u001b[38;5;241m=\u001b[39m\u001b[38;5;241m1\u001b[39m,\n\u001b[1;32m   (...)\u001b[0m\n\u001b[0;32m     25\u001b[0m     \u001b[38;5;241m*\u001b[39m\u001b[38;5;241m*\u001b[39mkwargs,\n\u001b[0;32m     26\u001b[0m ) \u001b[38;5;241m-\u001b[39m\u001b[38;5;241m>\u001b[39m go\u001b[38;5;241m.\u001b[39mFigure:\n\u001b[0;32m     27\u001b[0m \u001b[38;5;250m    \u001b[39m\u001b[38;5;124;03m\"\"\"\u001b[39;00m\n\u001b[0;32m     28\u001b[0m \u001b[38;5;124;03m    Return an instance of plotly.graph_objs.Figure with predefined subplots\u001b[39;00m\n\u001b[0;32m     29\u001b[0m \u001b[38;5;124;03m    configured in 'layout'.\u001b[39;00m\n\u001b[1;32m   (...)\u001b[0m\n\u001b[0;32m    302\u001b[0m \u001b[38;5;124;03m    Figure(...)\u001b[39;00m\n\u001b[0;32m    303\u001b[0m \u001b[38;5;124;03m    \"\"\"\u001b[39;00m\n\u001b[1;32m--> 305\u001b[0m     \u001b[38;5;28;01mreturn\u001b[39;00m \u001b[43m_sub\u001b[49m\u001b[38;5;241;43m.\u001b[39;49m\u001b[43mmake_subplots\u001b[49m\u001b[43m(\u001b[49m\n\u001b[0;32m    306\u001b[0m \u001b[43m        \u001b[49m\u001b[43mrows\u001b[49m\u001b[43m,\u001b[49m\n\u001b[0;32m    307\u001b[0m \u001b[43m        \u001b[49m\u001b[43mcols\u001b[49m\u001b[43m,\u001b[49m\n\u001b[0;32m    308\u001b[0m \u001b[43m        \u001b[49m\u001b[43mshared_xaxes\u001b[49m\u001b[43m,\u001b[49m\n\u001b[0;32m    309\u001b[0m \u001b[43m        \u001b[49m\u001b[43mshared_yaxes\u001b[49m\u001b[43m,\u001b[49m\n\u001b[0;32m    310\u001b[0m \u001b[43m        \u001b[49m\u001b[43mstart_cell\u001b[49m\u001b[43m,\u001b[49m\n\u001b[0;32m    311\u001b[0m \u001b[43m        \u001b[49m\u001b[43mprint_grid\u001b[49m\u001b[43m,\u001b[49m\n\u001b[0;32m    312\u001b[0m \u001b[43m        \u001b[49m\u001b[43mhorizontal_spacing\u001b[49m\u001b[43m,\u001b[49m\n\u001b[0;32m    313\u001b[0m \u001b[43m        \u001b[49m\u001b[43mvertical_spacing\u001b[49m\u001b[43m,\u001b[49m\n\u001b[0;32m    314\u001b[0m \u001b[43m        \u001b[49m\u001b[43msubplot_titles\u001b[49m\u001b[43m,\u001b[49m\n\u001b[0;32m    315\u001b[0m \u001b[43m        \u001b[49m\u001b[43mcolumn_widths\u001b[49m\u001b[43m,\u001b[49m\n\u001b[0;32m    316\u001b[0m \u001b[43m        \u001b[49m\u001b[43mrow_heights\u001b[49m\u001b[43m,\u001b[49m\n\u001b[0;32m    317\u001b[0m \u001b[43m        \u001b[49m\u001b[43mspecs\u001b[49m\u001b[43m,\u001b[49m\n\u001b[0;32m    318\u001b[0m \u001b[43m        \u001b[49m\u001b[43minsets\u001b[49m\u001b[43m,\u001b[49m\n\u001b[0;32m    319\u001b[0m \u001b[43m        \u001b[49m\u001b[43mcolumn_titles\u001b[49m\u001b[43m,\u001b[49m\n\u001b[0;32m    320\u001b[0m \u001b[43m        \u001b[49m\u001b[43mrow_titles\u001b[49m\u001b[43m,\u001b[49m\n\u001b[0;32m    321\u001b[0m \u001b[43m        \u001b[49m\u001b[43mx_title\u001b[49m\u001b[43m,\u001b[49m\n\u001b[0;32m    322\u001b[0m \u001b[43m        \u001b[49m\u001b[43my_title\u001b[49m\u001b[43m,\u001b[49m\n\u001b[0;32m    323\u001b[0m \u001b[43m        \u001b[49m\u001b[43mfigure\u001b[49m\u001b[43m,\u001b[49m\n\u001b[0;32m    324\u001b[0m \u001b[43m        \u001b[49m\u001b[38;5;241;43m*\u001b[39;49m\u001b[38;5;241;43m*\u001b[39;49m\u001b[43mkwargs\u001b[49m\u001b[43m,\u001b[49m\n\u001b[0;32m    325\u001b[0m \u001b[43m    \u001b[49m\u001b[43m)\u001b[49m\n",
      "File \u001b[1;32m~\\AppData\\Local\\Programs\\Python\\Python313\\Lib\\site-packages\\plotly\\_subplots.py:443\u001b[0m, in \u001b[0;36mmake_subplots\u001b[1;34m(rows, cols, shared_xaxes, shared_yaxes, start_cell, print_grid, horizontal_spacing, vertical_spacing, subplot_titles, column_widths, row_heights, specs, insets, column_titles, row_titles, x_title, y_title, figure, **kwargs)\u001b[0m\n\u001b[0;32m    434\u001b[0m         specs \u001b[38;5;241m=\u001b[39m [[{} \u001b[38;5;28;01mfor\u001b[39;00m c \u001b[38;5;129;01min\u001b[39;00m \u001b[38;5;28mrange\u001b[39m(cols)] \u001b[38;5;28;01mfor\u001b[39;00m r \u001b[38;5;129;01min\u001b[39;00m \u001b[38;5;28mrange\u001b[39m(rows)]\n\u001b[0;32m    435\u001b[0m     \u001b[38;5;28;01melif\u001b[39;00m \u001b[38;5;129;01mnot\u001b[39;00m (\n\u001b[0;32m    436\u001b[0m         \u001b[38;5;28misinstance\u001b[39m(specs, (\u001b[38;5;28mlist\u001b[39m, \u001b[38;5;28mtuple\u001b[39m))\n\u001b[0;32m    437\u001b[0m         \u001b[38;5;129;01mand\u001b[39;00m specs\n\u001b[1;32m   (...)\u001b[0m\n\u001b[0;32m    441\u001b[0m         \u001b[38;5;129;01mand\u001b[39;00m \u001b[38;5;28mall\u001b[39m(\u001b[38;5;28mall\u001b[39m(v \u001b[38;5;129;01mis\u001b[39;00m \u001b[38;5;28;01mNone\u001b[39;00m \u001b[38;5;129;01mor\u001b[39;00m \u001b[38;5;28misinstance\u001b[39m(v, \u001b[38;5;28mdict\u001b[39m) \u001b[38;5;28;01mfor\u001b[39;00m v \u001b[38;5;129;01min\u001b[39;00m row) \u001b[38;5;28;01mfor\u001b[39;00m row \u001b[38;5;129;01min\u001b[39;00m specs)\n\u001b[0;32m    442\u001b[0m     ):\n\u001b[1;32m--> 443\u001b[0m         \u001b[38;5;28;01mraise\u001b[39;00m \u001b[38;5;167;01mValueError\u001b[39;00m(\n\u001b[0;32m    444\u001b[0m \u001b[38;5;250m            \u001b[39m\u001b[38;5;124;03m\"\"\"\u001b[39;00m\n\u001b[0;32m    445\u001b[0m \u001b[38;5;124;03mThe 'specs' argument to make_subplots must be a 2D list of dictionaries with \\\u001b[39;00m\n\u001b[0;32m    446\u001b[0m \u001b[38;5;124;03mdimensions ({rows} x {cols}).\u001b[39;00m\n\u001b[0;32m    447\u001b[0m \u001b[38;5;124;03m    Received value of type {typ}: {val}\"\"\"\u001b[39;00m\u001b[38;5;241m.\u001b[39mformat(\n\u001b[0;32m    448\u001b[0m                 rows\u001b[38;5;241m=\u001b[39mrows, cols\u001b[38;5;241m=\u001b[39mcols, typ\u001b[38;5;241m=\u001b[39m\u001b[38;5;28mtype\u001b[39m(specs), val\u001b[38;5;241m=\u001b[39m\u001b[38;5;28mrepr\u001b[39m(specs)\n\u001b[0;32m    449\u001b[0m             )\n\u001b[0;32m    450\u001b[0m         )\n\u001b[0;32m    452\u001b[0m     \u001b[38;5;28;01mfor\u001b[39;00m row \u001b[38;5;129;01min\u001b[39;00m specs:\n\u001b[0;32m    453\u001b[0m         \u001b[38;5;28;01mfor\u001b[39;00m spec \u001b[38;5;129;01min\u001b[39;00m row:\n\u001b[0;32m    454\u001b[0m             \u001b[38;5;66;03m# For backward compatibility,\u001b[39;00m\n\u001b[0;32m    455\u001b[0m             \u001b[38;5;66;03m# convert is_3d flag to type='scene' kwarg\u001b[39;00m\n",
      "\u001b[1;31mValueError\u001b[0m: \nThe 'specs' argument to make_subplots must be a 2D list of dictionaries with dimensions (1 x 2).\n    Received value of type <class 'list'>: [[{'type': 'bar'}, {'type': 'scatter'}], [{'type': 'sankey'}, None]]"
     ]
    }
   ],
   "source": [
    "import plotly.graph_objects as go\n",
    "from plotly.subplots import make_subplots\n",
    "\n",
    "# Create a Bar Chart (First Column - 35%)\n",
    "bar_fig = go.Figure(go.Bar(x=[\"A\", \"B\", \"C\"], y=[10, 20, 30]))\n",
    "bar_fig.update_layout(title=\"Bar Chart\")\n",
    "\n",
    "# Create a Sankey Diagram (First Column - 65%)\n",
    "sankey_fig = go.Figure(go.Sankey(\n",
    "    node=dict(\n",
    "        pad=15,\n",
    "        thickness=20,\n",
    "        line=dict(color=\"black\", width=0.5),\n",
    "        label=[\"A\", \"B\", \"C\", \"D\"]\n",
    "    ),\n",
    "    link=dict(\n",
    "        source=[0, 1, 0, 2],\n",
    "        target=[1, 2, 3, 3],\n",
    "        value=[10, 20, 30, 40]\n",
    "    )\n",
    "))\n",
    "sankey_fig.update_layout(title=\"Sankey Diagram\")\n",
    "\n",
    "# Network Graph (Second Column - 100% Width)\n",
    "# Assuming you already have the code for the network graph\n",
    "# Placeholder for your network graph code (just a simple placeholder)\n",
    "network_fig = go.Figure()\n",
    "\n",
    "# Create a collated figure with 2 columns, and 2 rows in the first column\n",
    "fig = make_subplots(\n",
    "    rows=1, cols=2, \n",
    "    column_widths=[0.35, 0.65],  # 35% width for the first column, 65% for the second column\n",
    "    specs=[[{\"type\": \"bar\"}, {\"type\": \"scatter\"}],  # Bar chart and network graph on the first row\n",
    "            [{\"type\": \"sankey\"}, None]],  # Sankey on the second row, nothing on second column of row 2\n",
    "    subplot_titles=[\"Bar & Sankey\", \"Network Graph\"]\n",
    ")\n",
    "\n",
    "# Add the Bar Chart to the first column (35% width, first row)\n",
    "fig.add_trace(bar_fig.data[0], row=1, col=1)\n",
    "\n",
    "# Add the Sankey diagram to the first column (35% width, second row)\n",
    "fig.add_trace(sankey_fig.data[0], row=2, col=1)\n",
    "\n",
    "# Add the network graph to the second column (65% width)\n",
    "fig.add_trace(network_fig.data[0], row=1, col=2)\n",
    "\n",
    "# Update layout for the collated graph\n",
    "fig.update_layout(\n",
    "    title=\"Collated Graph: Bar, Sankey, and Network\",\n",
    "    showlegend=False,\n",
    "    height=800,\n",
    "    width=1200,\n",
    ")\n",
    "\n",
    "fig.show()\n"
   ]
  },
  {
   "cell_type": "code",
   "execution_count": null,
   "id": "d3867f0a-5ac6-41e3-b54e-b6ec854eea59",
   "metadata": {},
   "outputs": [],
   "source": []
  }
 ],
 "metadata": {
  "kernelspec": {
   "display_name": "Python 3 (ipykernel)",
   "language": "python",
   "name": "python3"
  },
  "language_info": {
   "codemirror_mode": {
    "name": "ipython",
    "version": 3
   },
   "file_extension": ".py",
   "mimetype": "text/x-python",
   "name": "python",
   "nbconvert_exporter": "python",
   "pygments_lexer": "ipython3",
   "version": "3.13.1"
  }
 },
 "nbformat": 4,
 "nbformat_minor": 5
}
